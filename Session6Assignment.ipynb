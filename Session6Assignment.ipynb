{
 "cells": [
  {
   "cell_type": "code",
   "execution_count": 2,
   "id": "3307b886",
   "metadata": {},
   "outputs": [],
   "source": [
    "import pyspark\n",
    "import urllib.request\n",
    "from pyspark.sql import SparkSession\n",
    "\n",
    "spark = SparkSession.builder \\\n",
    "    .master(\"local[*]\") \\\n",
    "    .appName('widikidiw') \\\n",
    "    .getOrCreate()"
   ]
  },
  {
   "cell_type": "code",
   "execution_count": 2,
   "id": "004af99c",
   "metadata": {},
   "outputs": [
    {
     "data": {
      "text/plain": [
       "('fhvhv_tripdata_2021-02.parquet', <http.client.HTTPMessage at 0x24590474e10>)"
      ]
     },
     "execution_count": 2,
     "metadata": {},
     "output_type": "execute_result"
    }
   ],
   "source": [
    "url = \"https://d37ci6vzurychx.cloudfront.net/trip-data/fhvhv_tripdata_2021-02.parquet\"\n",
    "filename = \"fhvhv_tripdata_2021-02.parquet\"\n",
    "\n",
    "urllib.request.urlretrieve(url, filename)"
   ]
  },
  {
   "cell_type": "code",
   "execution_count": 6,
   "id": "1ee1eb1d",
   "metadata": {},
   "outputs": [
    {
     "name": "stdout",
     "output_type": "stream",
     "text": [
      "+-----------------+--------------------+--------------------+-------------------+-------------------+-------------------+-------------------+------------+------------+----------+---------+-------------------+-----+----+---------+--------------------+-----------+----+----------+-------------------+-----------------+------------------+----------------+--------------+\n",
      "|hvfhs_license_num|dispatching_base_num|originating_base_num|   request_datetime|  on_scene_datetime|    pickup_datetime|   dropoff_datetime|PULocationID|DOLocationID|trip_miles|trip_time|base_passenger_fare|tolls| bcf|sales_tax|congestion_surcharge|airport_fee|tips|driver_pay|shared_request_flag|shared_match_flag|access_a_ride_flag|wav_request_flag|wav_match_flag|\n",
      "+-----------------+--------------------+--------------------+-------------------+-------------------+-------------------+-------------------+------------+------------+----------+---------+-------------------+-----+----+---------+--------------------+-----------+----+----------+-------------------+-----------------+------------------+----------------+--------------+\n",
      "|           HV0003|              B02764|              B02764|2021-02-01 06:59:00|2021-02-01 07:10:19|2021-02-01 07:10:40|2021-02-01 07:21:09|          35|          39|      2.06|      629|              17.14|  0.0|0.51|     1.52|                 0.0|       null| 0.0|      9.79|                  N|                N|                  |               N|             N|\n",
      "|           HV0003|              B02764|              B02764|2021-02-01 07:13:35|2021-02-01 07:25:23|2021-02-01 07:27:23|2021-02-01 07:44:01|          39|          35|      3.15|      998|              32.11|  0.0|0.96|     2.85|                 0.0|       null| 0.0|     24.01|                  N|                N|                  |               N|             N|\n",
      "|           HV0005|              B02510|                null|2021-02-01 07:12:55|               null|2021-02-01 07:28:38|2021-02-01 07:38:27|          39|          91|     1.776|      589|              12.67|  0.0|0.38|     1.12|                 0.0|       null| 0.0|      6.91|                  N|                N|                 N|               N|             N|\n",
      "|           HV0005|              B02510|                null|2021-02-01 07:36:01|               null|2021-02-01 07:43:37|2021-02-01 08:23:20|          91|         228|    13.599|     2383|              37.82|  0.0|0.98|     2.91|                 0.0|       null| 7.0|     35.05|                  N|                N|                 N|               N|             N|\n",
      "|           HV0003|              B02872|              B02872|2021-02-01 06:57:50|2021-02-01 07:08:25|2021-02-01 07:08:42|2021-02-01 07:17:57|         126|         250|      2.62|      555|              15.56|  0.0|0.47|     1.38|                 0.0|       null| 0.0|      8.53|                  N|                N|                  |               N|             N|\n",
      "|           HV0003|              B02872|              B02872|2021-02-01 07:11:48|2021-02-01 07:24:25|2021-02-01 07:26:02|2021-02-01 07:42:51|         208|         243|      6.89|     1009|              19.98|  0.0| 0.6|     1.77|                 0.0|       null| 0.0|     16.05|                  N|                N|                  |               N|             N|\n",
      "|           HV0003|              B02872|              B02872|2021-02-01 07:39:45|2021-02-01 07:44:57|2021-02-01 07:45:50|2021-02-01 08:02:50|         243|         220|      4.26|     1020|              42.36|  0.0|1.27|     3.76|                 0.0|       null| 0.0|     25.42|                  N|                N|                  |               N|             N|\n",
      "|           HV0003|              B02764|              B02764|2021-02-01 06:55:59|2021-02-01 07:04:42|2021-02-01 07:06:42|2021-02-01 07:31:50|          49|          37|      2.95|     1508|              25.29|  0.0|0.81|      2.4|                 0.0|       null| 0.0|     22.29|                  N|                N|                  |               N|             N|\n",
      "|           HV0003|              B02764|              B02764|2021-02-01 07:27:54|2021-02-01 07:33:12|2021-02-01 07:34:34|2021-02-01 07:58:13|          37|          76|      3.41|     1419|               22.9|  0.0|0.69|     2.03|                 0.0|       null| 0.0|     23.77|                  N|                N|                  |               N|             N|\n",
      "|           HV0005|              B02510|                null|2021-02-01 06:56:04|               null|2021-02-01 07:03:43|2021-02-01 07:39:37|          80|         241|    15.998|     2154|              45.17| 4.88| 1.5|     4.44|                 0.0|       null| 0.0|      35.8|                  N|                N|                 N|               N|             N|\n",
      "|           HV0005|              B02510|                null|2021-02-01 07:46:24|               null|2021-02-01 07:55:36|2021-02-01 08:08:39|         174|          51|     2.354|      783|              14.61|  0.0|0.44|      1.3|                 0.0|       null| 0.0|      9.16|                  N|                N|                 N|               N|             N|\n",
      "|           HV0005|              B02510|                null|2021-02-01 06:59:26|               null|2021-02-01 07:06:13|2021-02-01 07:33:45|         235|         129|     9.643|     1652|               29.5| 6.02|1.07|     3.15|                 0.0|       null| 0.0|     27.83|                  N|                N|                 N|               N|             N|\n",
      "|           HV0005|              B02510|                null|2021-02-01 07:31:01|               null|2021-02-01 07:42:24|2021-02-01 08:11:31|         129|         169|    10.231|     1747|              38.71| 5.87|1.34|     3.96|                 0.0|       null| 0.0|     25.99|                  N|                N|                 N|               N|             N|\n",
      "|           HV0003|              B02764|              B02764|2021-02-01 06:58:59|2021-02-01 07:06:26|2021-02-01 07:07:05|2021-02-01 07:20:53|         226|          82|      2.69|      828|               15.1|  0.0|0.45|     1.34|                 0.0|       null| 0.0|       9.9|                  N|                N|                  |               N|             N|\n",
      "|           HV0003|              B02764|              B02764|2021-02-01 07:19:07|2021-02-01 07:27:38|2021-02-01 07:28:56|2021-02-01 07:33:59|          82|         129|       0.6|      303|              18.01|  0.0|0.54|      1.6|                 0.0|       null| 0.0|       7.9|                  N|                N|                  |               N|             N|\n",
      "|           HV0003|              B02764|              B02764|2021-02-01 07:25:36|2021-02-01 07:42:50|2021-02-01 07:44:53|2021-02-01 08:07:54|           7|          79|      8.37|     1381|              57.95| 6.12|1.92|     5.69|                2.75|       null| 0.0|     35.91|                  N|                N|                  |               N|             N|\n",
      "|           HV0003|              B02888|              B02888|2021-02-01 07:02:23|2021-02-01 07:15:55|2021-02-01 07:17:55|2021-02-01 07:34:41|           4|         170|      1.88|     1006|              29.78|  0.0|0.89|     2.64|                2.75|       null| 0.0|     23.75|                  N|                N|                  |               N|             Y|\n",
      "|           HV0003|              B02888|              B02888|2021-02-01 07:31:11|2021-02-01 07:37:32|2021-02-01 07:38:14|2021-02-01 07:59:20|         164|          42|      8.04|     1266|              54.61|  0.0|1.65|     4.87|                2.75|       null| 0.0|     48.97|                  N|                N|                  |               N|             Y|\n",
      "|           HV0004|              B02800|                null|2021-02-01 06:45:24|               null|2021-02-01 07:08:04|2021-02-01 07:24:41|         237|           4|      4.29|      997|              19.95|  0.0| 0.0|     1.42|                2.75|       null| 0.0|     12.87|                  N|                N|                 N|               N|             N|\n",
      "|           HV0004|              B02800|                null|2021-02-01 07:08:40|               null|2021-02-01 07:30:44|2021-02-01 07:41:26|         107|          45|      1.53|      642|              14.69|  0.0| 0.0|     1.04|                2.75|       null| 0.0|      7.06|                  N|                N|                 N|               N|             N|\n",
      "+-----------------+--------------------+--------------------+-------------------+-------------------+-------------------+-------------------+------------+------------+----------+---------+-------------------+-----+----+---------+--------------------+-----------+----+----------+-------------------+-----------------+------------------+----------------+--------------+\n",
      "only showing top 20 rows\n",
      "\n"
     ]
    }
   ],
   "source": [
    "df = spark.read.parquet('fhvhv_tripdata_2021-02.parquet')\n",
    "df.show(20)"
   ]
  },
  {
   "cell_type": "code",
   "execution_count": 8,
   "id": "0ca5ee99",
   "metadata": {},
   "outputs": [],
   "source": [
    "df.createOrReplaceTempView(\"dfliat\")"
   ]
  },
  {
   "cell_type": "code",
   "execution_count": 10,
   "id": "db046aca",
   "metadata": {},
   "outputs": [
    {
     "name": "stdout",
     "output_type": "stream",
     "text": [
      "+----------+\n",
      "|Trip_Count|\n",
      "+----------+\n",
      "|    427850|\n",
      "+----------+\n",
      "\n"
     ]
    }
   ],
   "source": [
    "#1. How many taxi trips were there on February 15?\n",
    "q1 = spark.sql(\"SELECT count(*) Trip_Count FROM dfliat Where cast(dropoff_datetime as date) = '2021-02-15' \")\n",
    "q1.show()"
   ]
  },
  {
   "cell_type": "code",
   "execution_count": 11,
   "id": "649bb4da",
   "metadata": {},
   "outputs": [
    {
     "name": "stdout",
     "output_type": "stream",
     "text": [
      "+----------+------------------+\n",
      "|  Trip_Day|Longest_Trip_Miles|\n",
      "+----------+------------------+\n",
      "|2021-02-01|            212.43|\n",
      "|2021-02-02|            282.78|\n",
      "|2021-02-03|            161.12|\n",
      "|2021-02-04|            203.97|\n",
      "|2021-02-05|            239.16|\n",
      "|2021-02-06|            275.32|\n",
      "|2021-02-07|            266.36|\n",
      "|2021-02-08|             253.5|\n",
      "|2021-02-09|            219.43|\n",
      "|2021-02-10|             512.5|\n",
      "|2021-02-11|            417.77|\n",
      "|2021-02-12|            250.11|\n",
      "|2021-02-13|            233.44|\n",
      "|2021-02-14|            207.44|\n",
      "|2021-02-15|            184.77|\n",
      "|2021-02-16|           307.661|\n",
      "|2021-02-17|            324.19|\n",
      "|2021-02-18|            527.11|\n",
      "|2021-02-19|           201.743|\n",
      "|2021-02-20|            329.16|\n",
      "+----------+------------------+\n",
      "only showing top 20 rows\n",
      "\n"
     ]
    }
   ],
   "source": [
    "#2. Find the longest trip for each day?\n",
    "q2 = spark.sql(\"SELECT cast(dropoff_datetime as date) Trip_Day, max(trip_miles) as Longest_Trip_Miles \\\n",
    "                      FROM dfliat \\\n",
    "                      where cast(dropoff_datetime as date) is not null \\\n",
    "                      group by cast(dropoff_datetime as date) \\\n",
    "                      order by cast(dropoff_datetime as date) asc \")\n",
    "q2.show()"
   ]
  },
  {
   "cell_type": "code",
   "execution_count": 13,
   "id": "90cd6845",
   "metadata": {},
   "outputs": [
    {
     "name": "stdout",
     "output_type": "stream",
     "text": [
      "+--------------------+--------+\n",
      "|dispatching_base_num|Trip_Day|\n",
      "+--------------------+--------+\n",
      "|              B02510| 3233664|\n",
      "|              B02764|  965568|\n",
      "|              B02872|  882689|\n",
      "|              B02875|  685390|\n",
      "|              B02765|  559768|\n",
      "+--------------------+--------+\n",
      "\n"
     ]
    }
   ],
   "source": [
    "#3. Find Top 5 Most frequent `dispatching_base_num`?\n",
    "q3 = spark.sql(\"SELECT dispatching_base_num, count(*) as Trip_Day \\\n",
    "                      FROM dfliat \\\n",
    "                      group by dispatching_base_num \\\n",
    "                      order by count(*) desc limit 5 \")\n",
    "q3.show()\n"
   ]
  },
  {
   "cell_type": "code",
   "execution_count": 14,
   "id": "88822efd",
   "metadata": {},
   "outputs": [
    {
     "name": "stdout",
     "output_type": "stream",
     "text": [
      "+------------+------------+--------+\n",
      "|PUlocationID|DOlocationID|Trip_Day|\n",
      "+------------+------------+--------+\n",
      "|          76|          76|   45041|\n",
      "|          26|          26|   37329|\n",
      "|          39|          39|   28026|\n",
      "|          61|          61|   25976|\n",
      "|          14|          14|   17934|\n",
      "+------------+------------+--------+\n",
      "\n"
     ]
    }
   ],
   "source": [
    "#4. Find Top 5 Most common location pairs (PUlocationID and DOlocationID)?\n",
    "q4 = spark.sql(\"SELECT PUlocationID, DOlocationID, count(*) as Trip_Day \\\n",
    "                      FROM dfliat \\\n",
    "                      group by PUlocationID, DOlocationID \\\n",
    "                      order by count(*) desc limit 5 \")\n",
    "q4.show()"
   ]
  }
 ],
 "metadata": {
  "kernelspec": {
   "display_name": "Python 3 (ipykernel)",
   "language": "python",
   "name": "python3"
  },
  "language_info": {
   "codemirror_mode": {
    "name": "ipython",
    "version": 3
   },
   "file_extension": ".py",
   "mimetype": "text/x-python",
   "name": "python",
   "nbconvert_exporter": "python",
   "pygments_lexer": "ipython3",
   "version": "3.11.2"
  }
 },
 "nbformat": 4,
 "nbformat_minor": 5
}
